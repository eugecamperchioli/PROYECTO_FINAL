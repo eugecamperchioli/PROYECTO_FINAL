{
 "cells": [
  {
   "cell_type": "code",
   "execution_count": 21,
   "id": "498e8a7e",
   "metadata": {},
   "outputs": [],
   "source": [
    "# tratamiento de datos\n",
    "import pandas as pd\n",
    "\n",
    "# visualizaciones\n",
    "import matplotlib.pyplot as plt\n",
    "import seaborn as sns"
   ]
  },
  {
   "cell_type": "code",
   "execution_count": 22,
   "id": "fc4a5f2a",
   "metadata": {},
   "outputs": [],
   "source": [
    "df = pd.read_csv('../data/raw/cscpopendata.csv')"
   ]
  },
  {
   "cell_type": "code",
   "execution_count": 23,
   "id": "c725f4f2",
   "metadata": {},
   "outputs": [
    {
     "data": {
      "text/html": [
       "<div>\n",
       "<style scoped>\n",
       "    .dataframe tbody tr th:only-of-type {\n",
       "        vertical-align: middle;\n",
       "    }\n",
       "\n",
       "    .dataframe tbody tr th {\n",
       "        vertical-align: top;\n",
       "    }\n",
       "\n",
       "    .dataframe thead th {\n",
       "        text-align: right;\n",
       "    }\n",
       "</style>\n",
       "<table border=\"1\" class=\"dataframe\">\n",
       "  <thead>\n",
       "    <tr style=\"text-align: right;\">\n",
       "      <th></th>\n",
       "      <th>CDPHId</th>\n",
       "      <th>ProductName</th>\n",
       "      <th>CSFId</th>\n",
       "      <th>CSF</th>\n",
       "      <th>CompanyId</th>\n",
       "      <th>CompanyName</th>\n",
       "      <th>BrandName</th>\n",
       "      <th>PrimaryCategoryId</th>\n",
       "      <th>PrimaryCategory</th>\n",
       "      <th>SubCategoryId</th>\n",
       "      <th>...</th>\n",
       "      <th>CasNumber</th>\n",
       "      <th>ChemicalId</th>\n",
       "      <th>ChemicalName</th>\n",
       "      <th>InitialDateReported</th>\n",
       "      <th>MostRecentDateReported</th>\n",
       "      <th>DiscontinuedDate</th>\n",
       "      <th>ChemicalCreatedAt</th>\n",
       "      <th>ChemicalUpdatedAt</th>\n",
       "      <th>ChemicalDateRemoved</th>\n",
       "      <th>ChemicalCount</th>\n",
       "    </tr>\n",
       "  </thead>\n",
       "  <tbody>\n",
       "    <tr>\n",
       "      <th>39944</th>\n",
       "      <td>14379</td>\n",
       "      <td>NARS Velvet Matte Lip Pencil</td>\n",
       "      <td>48033.0</td>\n",
       "      <td>Spell Bound</td>\n",
       "      <td>352</td>\n",
       "      <td>Nars Cosmetics</td>\n",
       "      <td>NARS</td>\n",
       "      <td>44</td>\n",
       "      <td>Makeup Products (non-permanent)</td>\n",
       "      <td>53</td>\n",
       "      <td>...</td>\n",
       "      <td>13463-67-7</td>\n",
       "      <td>22029</td>\n",
       "      <td>Titanium dioxide</td>\n",
       "      <td>06/30/2010</td>\n",
       "      <td>11/29/2018</td>\n",
       "      <td>NaN</td>\n",
       "      <td>06/30/2010</td>\n",
       "      <td>08/03/2015</td>\n",
       "      <td>NaN</td>\n",
       "      <td>1</td>\n",
       "    </tr>\n",
       "    <tr>\n",
       "      <th>32730</th>\n",
       "      <td>10679</td>\n",
       "      <td>Natural Radiance Mineral Powder Foundation Bro...</td>\n",
       "      <td>NaN</td>\n",
       "      <td>NaN</td>\n",
       "      <td>290</td>\n",
       "      <td>Arbonne International LLC</td>\n",
       "      <td>Arbonne Cosmetics</td>\n",
       "      <td>44</td>\n",
       "      <td>Makeup Products (non-permanent)</td>\n",
       "      <td>50</td>\n",
       "      <td>...</td>\n",
       "      <td>NaN</td>\n",
       "      <td>34642</td>\n",
       "      <td>Retinyl palmitate</td>\n",
       "      <td>04/20/2010</td>\n",
       "      <td>06/30/2017</td>\n",
       "      <td>NaN</td>\n",
       "      <td>04/17/2014</td>\n",
       "      <td>04/17/2014</td>\n",
       "      <td>NaN</td>\n",
       "      <td>2</td>\n",
       "    </tr>\n",
       "    <tr>\n",
       "      <th>96831</th>\n",
       "      <td>35540</td>\n",
       "      <td>Sweet Escape Eye &amp; Cheek Palette</td>\n",
       "      <td>54638.0</td>\n",
       "      <td>rum runner</td>\n",
       "      <td>224</td>\n",
       "      <td>Tarte Cosmetics</td>\n",
       "      <td>tarte, inc.</td>\n",
       "      <td>44</td>\n",
       "      <td>Makeup Products (non-permanent)</td>\n",
       "      <td>48</td>\n",
       "      <td>...</td>\n",
       "      <td>13463-67-7</td>\n",
       "      <td>57172</td>\n",
       "      <td>Titanium dioxide</td>\n",
       "      <td>11/15/2018</td>\n",
       "      <td>11/15/2018</td>\n",
       "      <td>NaN</td>\n",
       "      <td>11/15/2018</td>\n",
       "      <td>11/15/2018</td>\n",
       "      <td>NaN</td>\n",
       "      <td>1</td>\n",
       "    </tr>\n",
       "    <tr>\n",
       "      <th>63897</th>\n",
       "      <td>22921</td>\n",
       "      <td>KISSKISS STRASS  CRYSTAL SHINE SHIMMERING COLOURS</td>\n",
       "      <td>35093.0</td>\n",
       "      <td>340 BEIGE MOUSSELINE</td>\n",
       "      <td>298</td>\n",
       "      <td>GUERLAIN</td>\n",
       "      <td>GUERLAIN</td>\n",
       "      <td>44</td>\n",
       "      <td>Makeup Products (non-permanent)</td>\n",
       "      <td>53</td>\n",
       "      <td>...</td>\n",
       "      <td>13463-67-7</td>\n",
       "      <td>34861</td>\n",
       "      <td>Titanium dioxide</td>\n",
       "      <td>05/23/2014</td>\n",
       "      <td>05/24/2018</td>\n",
       "      <td>07/31/2014</td>\n",
       "      <td>05/23/2014</td>\n",
       "      <td>02/12/2015</td>\n",
       "      <td>NaN</td>\n",
       "      <td>1</td>\n",
       "    </tr>\n",
       "    <tr>\n",
       "      <th>91209</th>\n",
       "      <td>33399</td>\n",
       "      <td>Precisely, My Brow Pencil</td>\n",
       "      <td>52936.0</td>\n",
       "      <td>Shade 2</td>\n",
       "      <td>191</td>\n",
       "      <td>Benefit Cosmetics</td>\n",
       "      <td>Benefit Cosmetics</td>\n",
       "      <td>44</td>\n",
       "      <td>Makeup Products (non-permanent)</td>\n",
       "      <td>46</td>\n",
       "      <td>...</td>\n",
       "      <td>13463-67-7</td>\n",
       "      <td>53972</td>\n",
       "      <td>Titanium dioxide</td>\n",
       "      <td>06/26/2018</td>\n",
       "      <td>10/18/2019</td>\n",
       "      <td>NaN</td>\n",
       "      <td>06/26/2018</td>\n",
       "      <td>10/18/2019</td>\n",
       "      <td>NaN</td>\n",
       "      <td>1</td>\n",
       "    </tr>\n",
       "  </tbody>\n",
       "</table>\n",
       "<p>5 rows × 22 columns</p>\n",
       "</div>"
      ],
      "text/plain": [
       "       CDPHId                                        ProductName    CSFId  \\\n",
       "39944   14379                       NARS Velvet Matte Lip Pencil  48033.0   \n",
       "32730   10679  Natural Radiance Mineral Powder Foundation Bro...      NaN   \n",
       "96831   35540                   Sweet Escape Eye & Cheek Palette  54638.0   \n",
       "63897   22921  KISSKISS STRASS  CRYSTAL SHINE SHIMMERING COLOURS  35093.0   \n",
       "91209   33399                          Precisely, My Brow Pencil  52936.0   \n",
       "\n",
       "                        CSF  CompanyId                CompanyName  \\\n",
       "39944           Spell Bound        352             Nars Cosmetics   \n",
       "32730                   NaN        290  Arbonne International LLC   \n",
       "96831            rum runner        224            Tarte Cosmetics   \n",
       "63897  340 BEIGE MOUSSELINE        298                   GUERLAIN   \n",
       "91209               Shade 2        191          Benefit Cosmetics   \n",
       "\n",
       "               BrandName  PrimaryCategoryId                  PrimaryCategory  \\\n",
       "39944               NARS                 44  Makeup Products (non-permanent)   \n",
       "32730  Arbonne Cosmetics                 44  Makeup Products (non-permanent)   \n",
       "96831        tarte, inc.                 44  Makeup Products (non-permanent)   \n",
       "63897           GUERLAIN                 44  Makeup Products (non-permanent)   \n",
       "91209  Benefit Cosmetics                 44  Makeup Products (non-permanent)   \n",
       "\n",
       "       SubCategoryId  ...   CasNumber  ChemicalId       ChemicalName  \\\n",
       "39944             53  ...  13463-67-7       22029   Titanium dioxide   \n",
       "32730             50  ...         NaN       34642  Retinyl palmitate   \n",
       "96831             48  ...  13463-67-7       57172   Titanium dioxide   \n",
       "63897             53  ...  13463-67-7       34861   Titanium dioxide   \n",
       "91209             46  ...  13463-67-7       53972   Titanium dioxide   \n",
       "\n",
       "       InitialDateReported MostRecentDateReported DiscontinuedDate  \\\n",
       "39944           06/30/2010             11/29/2018              NaN   \n",
       "32730           04/20/2010             06/30/2017              NaN   \n",
       "96831           11/15/2018             11/15/2018              NaN   \n",
       "63897           05/23/2014             05/24/2018       07/31/2014   \n",
       "91209           06/26/2018             10/18/2019              NaN   \n",
       "\n",
       "      ChemicalCreatedAt ChemicalUpdatedAt ChemicalDateRemoved ChemicalCount  \n",
       "39944        06/30/2010        08/03/2015                 NaN             1  \n",
       "32730        04/17/2014        04/17/2014                 NaN             2  \n",
       "96831        11/15/2018        11/15/2018                 NaN             1  \n",
       "63897        05/23/2014        02/12/2015                 NaN             1  \n",
       "91209        06/26/2018        10/18/2019                 NaN             1  \n",
       "\n",
       "[5 rows x 22 columns]"
      ]
     },
     "execution_count": 23,
     "metadata": {},
     "output_type": "execute_result"
    }
   ],
   "source": [
    "df.sample(5)"
   ]
  },
  {
   "cell_type": "code",
   "execution_count": 24,
   "id": "c5b4b335",
   "metadata": {},
   "outputs": [
    {
     "name": "stdout",
     "output_type": "stream",
     "text": [
      "<class 'pandas.core.frame.DataFrame'>\n",
      "RangeIndex: 114635 entries, 0 to 114634\n",
      "Data columns (total 22 columns):\n",
      " #   Column                  Non-Null Count   Dtype  \n",
      "---  ------                  --------------   -----  \n",
      " 0   CDPHId                  114635 non-null  int64  \n",
      " 1   ProductName             114635 non-null  object \n",
      " 2   CSFId                   80662 non-null   float64\n",
      " 3   CSF                     80237 non-null   object \n",
      " 4   CompanyId               114635 non-null  int64  \n",
      " 5   CompanyName             114635 non-null  object \n",
      " 6   BrandName               114408 non-null  object \n",
      " 7   PrimaryCategoryId       114635 non-null  int64  \n",
      " 8   PrimaryCategory         114635 non-null  object \n",
      " 9   SubCategoryId           114635 non-null  int64  \n",
      " 10  SubCategory             114635 non-null  object \n",
      " 11  CasId                   114635 non-null  int64  \n",
      " 12  CasNumber               108159 non-null  object \n",
      " 13  ChemicalId              114635 non-null  int64  \n",
      " 14  ChemicalName            114635 non-null  object \n",
      " 15  InitialDateReported     114635 non-null  object \n",
      " 16  MostRecentDateReported  114635 non-null  object \n",
      " 17  DiscontinuedDate        12920 non-null   object \n",
      " 18  ChemicalCreatedAt       114635 non-null  object \n",
      " 19  ChemicalUpdatedAt       114635 non-null  object \n",
      " 20  ChemicalDateRemoved     2985 non-null    object \n",
      " 21  ChemicalCount           114635 non-null  int64  \n",
      "dtypes: float64(1), int64(7), object(14)\n",
      "memory usage: 19.2+ MB\n"
     ]
    }
   ],
   "source": [
    "df.info()"
   ]
  },
  {
   "cell_type": "markdown",
   "id": "e96207bf",
   "metadata": {},
   "source": [
    "1. CDPHId: identificador interno del producto\n",
    "2. ProductName: nombre del producto           \n",
    "3. CSFId:  número de identificación del color, aroma o sabor asignado por CDPH, tenemos 33.973 nulos               \n",
    "4. CSF: nombre textual de ese color, aroma o sabor. tenemos 34.398 nulos \n",
    "5. CompanyId: ID de la compañia\n",
    "6. CompanyName: nombre de la compañia\n",
    "7. BrandName: nombre de la marca\n",
    "8. PrimaryCategoryId: identificador de la categoria primaria\n",
    "9. PrimaryCategory: nombre de la categoria primaria\n",
    "10. SubCategoryId: identificador de la subcategoria\n",
    "11. SubCategory: nombre de la subcategoria\n",
    "12. CasId: Ingrediente químico (interno del producto)         \n",
    "13. CasNumber: Número CAS global de la sustancia, tenemos 6.476 nulos     \n",
    "14. ChemicalId: ID del nombre quimico\n",
    "15. ChemicalName: Instancia química específica del producto\n",
    "16. InitialDateReported: fecha en que el perfil del producto (no del ingrediente) fue creado por primera vez y enviado por el fabricante\n",
    "17. MostRecentDateReported: fecha en que el perfil del producto fue modificado por última vez antes de su presentación al CDPH\n",
    "18. DiscontinuedDate: Fecha en que CDPH marcó el producto como ya no disponible en el mercado. Si está vacía (NaN), el producto aún se considera activo, tenemos 101.715 nulos\n",
    "19. ChemicalCreatedAt: Fecha en que se reportó por primera vez ese ingrediente químico en el producto específico     \n",
    "20. ChemicalUpdatedAt: Última fecha en que se modificó el registro del ingrediente químico para ese producto  \n",
    "21. ChemicalDateRemoved: Fecha en que este ingrediente fue eliminado del producto (reformulación), tenemos 111.650 nulos\n",
    "22. ChemicalCount: Número de químicos actualmente REPORTADOS en el producto, excluyendo aquellos que fueron eliminados    "
   ]
  },
  {
   "cell_type": "markdown",
   "id": "dbe7f3b6",
   "metadata": {},
   "source": [
    "## DUPLICADOS\n",
    "verificamos si hay duplicados en nuestro DF y los eliminamos para limpiar la base"
   ]
  },
  {
   "cell_type": "code",
   "execution_count": 25,
   "id": "f9cf45a0",
   "metadata": {},
   "outputs": [
    {
     "data": {
      "text/plain": [
       "np.int64(254)"
      ]
     },
     "execution_count": 25,
     "metadata": {},
     "output_type": "execute_result"
    }
   ],
   "source": [
    "df.duplicated().sum()"
   ]
  },
  {
   "cell_type": "code",
   "execution_count": 26,
   "id": "7f6f853d",
   "metadata": {},
   "outputs": [],
   "source": [
    "df = df.drop_duplicates()"
   ]
  },
  {
   "cell_type": "markdown",
   "id": "09935807",
   "metadata": {},
   "source": [
    "## NULOS\n",
    "comprobamos los valores nulos que tenemos en el DF para gestionarlos\n",
    "\n",
    "vemos que tenemos pocas columnas con valores nulos, de los cuales:\n",
    "- ChemicalDateRemoved: alta cantidad 97.39% nulos, significa que para la gran mayoría de los registros, el ingrediente no ha sido eliminado\n",
    "- DiscontinuedDate: alta cantidad 88.75% nulos, pero nos indica que son productos activos en el mercado.\n",
    "- CSF: cantidad moderada 29.86% de nulos, significa que no tienen colorantes, aromas o sabores aplicados\n",
    "- CSFId: cantidad moderada 29.49% de nulos, significa que no tienen colorantes, aromas o sabores aplicados\n",
    "- CasNumber: 5.66%, cantidad muy baja de nulos podemos eliminarlos\n",
    "- BrandName: 0.20%, cantidad muy baja de nulos podemos eliminarlos"
   ]
  },
  {
   "cell_type": "code",
   "execution_count": 27,
   "id": "05165def",
   "metadata": {},
   "outputs": [
    {
     "data": {
      "text/plain": [
       "ChemicalDateRemoved       111396\n",
       "DiscontinuedDate          101508\n",
       "CSF                        34156\n",
       "CSFId                      33731\n",
       "CasNumber                   6475\n",
       "BrandName                    227\n",
       "CDPHId                         0\n",
       "ChemicalId                     0\n",
       "ChemicalUpdatedAt              0\n",
       "ChemicalCreatedAt              0\n",
       "MostRecentDateReported         0\n",
       "InitialDateReported            0\n",
       "ChemicalName                   0\n",
       "CasId                          0\n",
       "ProductName                    0\n",
       "SubCategory                    0\n",
       "SubCategoryId                  0\n",
       "PrimaryCategory                0\n",
       "PrimaryCategoryId              0\n",
       "CompanyName                    0\n",
       "CompanyId                      0\n",
       "ChemicalCount                  0\n",
       "dtype: int64"
      ]
     },
     "execution_count": 27,
     "metadata": {},
     "output_type": "execute_result"
    }
   ],
   "source": [
    "df.isna().sum().sort_values(ascending=False)"
   ]
  },
  {
   "cell_type": "code",
   "execution_count": 28,
   "id": "b94f9723",
   "metadata": {},
   "outputs": [
    {
     "data": {
      "text/plain": [
       "ChemicalDateRemoved       97.39\n",
       "DiscontinuedDate          88.75\n",
       "CSF                       29.86\n",
       "CSFId                     29.49\n",
       "CasNumber                  5.66\n",
       "BrandName                  0.20\n",
       "CDPHId                     0.00\n",
       "ChemicalId                 0.00\n",
       "ChemicalUpdatedAt          0.00\n",
       "ChemicalCreatedAt          0.00\n",
       "MostRecentDateReported     0.00\n",
       "InitialDateReported        0.00\n",
       "ChemicalName               0.00\n",
       "CasId                      0.00\n",
       "ProductName                0.00\n",
       "SubCategory                0.00\n",
       "SubCategoryId              0.00\n",
       "PrimaryCategory            0.00\n",
       "PrimaryCategoryId          0.00\n",
       "CompanyName                0.00\n",
       "CompanyId                  0.00\n",
       "ChemicalCount              0.00\n",
       "dtype: float64"
      ]
     },
     "execution_count": 28,
     "metadata": {},
     "output_type": "execute_result"
    }
   ],
   "source": [
    "round(df.isna().mean()*100,2).sort_values(ascending=False)"
   ]
  },
  {
   "cell_type": "markdown",
   "id": "65b7110d",
   "metadata": {},
   "source": [
    "## COLUMNAS NUMERICAS"
   ]
  },
  {
   "cell_type": "code",
   "execution_count": 29,
   "id": "00fdc930",
   "metadata": {},
   "outputs": [
    {
     "data": {
      "text/html": [
       "<div>\n",
       "<style scoped>\n",
       "    .dataframe tbody tr th:only-of-type {\n",
       "        vertical-align: middle;\n",
       "    }\n",
       "\n",
       "    .dataframe tbody tr th {\n",
       "        vertical-align: top;\n",
       "    }\n",
       "\n",
       "    .dataframe thead th {\n",
       "        text-align: right;\n",
       "    }\n",
       "</style>\n",
       "<table border=\"1\" class=\"dataframe\">\n",
       "  <thead>\n",
       "    <tr style=\"text-align: right;\">\n",
       "      <th></th>\n",
       "      <th>count</th>\n",
       "      <th>mean</th>\n",
       "      <th>std</th>\n",
       "      <th>min</th>\n",
       "      <th>25%</th>\n",
       "      <th>50%</th>\n",
       "      <th>75%</th>\n",
       "      <th>max</th>\n",
       "    </tr>\n",
       "  </thead>\n",
       "  <tbody>\n",
       "    <tr>\n",
       "      <th>CDPHId</th>\n",
       "      <td>114381.0</td>\n",
       "      <td>20338.03</td>\n",
       "      <td>12481.33</td>\n",
       "      <td>2.0</td>\n",
       "      <td>8791.0</td>\n",
       "      <td>20910.0</td>\n",
       "      <td>31380.00</td>\n",
       "      <td>41524.0</td>\n",
       "    </tr>\n",
       "    <tr>\n",
       "      <th>CSFId</th>\n",
       "      <td>80650.0</td>\n",
       "      <td>32608.71</td>\n",
       "      <td>19090.71</td>\n",
       "      <td>1.0</td>\n",
       "      <td>15788.0</td>\n",
       "      <td>32542.0</td>\n",
       "      <td>48720.75</td>\n",
       "      <td>65009.0</td>\n",
       "    </tr>\n",
       "    <tr>\n",
       "      <th>CompanyId</th>\n",
       "      <td>114381.0</td>\n",
       "      <td>451.19</td>\n",
       "      <td>409.71</td>\n",
       "      <td>4.0</td>\n",
       "      <td>86.0</td>\n",
       "      <td>298.0</td>\n",
       "      <td>798.00</td>\n",
       "      <td>1391.0</td>\n",
       "    </tr>\n",
       "    <tr>\n",
       "      <th>PrimaryCategoryId</th>\n",
       "      <td>114381.0</td>\n",
       "      <td>51.13</td>\n",
       "      <td>20.46</td>\n",
       "      <td>1.0</td>\n",
       "      <td>44.0</td>\n",
       "      <td>44.0</td>\n",
       "      <td>59.00</td>\n",
       "      <td>111.0</td>\n",
       "    </tr>\n",
       "    <tr>\n",
       "      <th>SubCategoryId</th>\n",
       "      <td>114381.0</td>\n",
       "      <td>66.89</td>\n",
       "      <td>35.82</td>\n",
       "      <td>3.0</td>\n",
       "      <td>48.0</td>\n",
       "      <td>52.0</td>\n",
       "      <td>65.00</td>\n",
       "      <td>172.0</td>\n",
       "    </tr>\n",
       "    <tr>\n",
       "      <th>CasId</th>\n",
       "      <td>114381.0</td>\n",
       "      <td>673.15</td>\n",
       "      <td>148.02</td>\n",
       "      <td>2.0</td>\n",
       "      <td>656.0</td>\n",
       "      <td>656.0</td>\n",
       "      <td>656.00</td>\n",
       "      <td>1242.0</td>\n",
       "    </tr>\n",
       "    <tr>\n",
       "      <th>ChemicalId</th>\n",
       "      <td>114381.0</td>\n",
       "      <td>32909.64</td>\n",
       "      <td>20403.73</td>\n",
       "      <td>0.0</td>\n",
       "      <td>14092.0</td>\n",
       "      <td>32114.0</td>\n",
       "      <td>51641.00</td>\n",
       "      <td>68074.0</td>\n",
       "    </tr>\n",
       "    <tr>\n",
       "      <th>ChemicalCount</th>\n",
       "      <td>114381.0</td>\n",
       "      <td>1.29</td>\n",
       "      <td>0.64</td>\n",
       "      <td>0.0</td>\n",
       "      <td>1.0</td>\n",
       "      <td>1.0</td>\n",
       "      <td>1.00</td>\n",
       "      <td>9.0</td>\n",
       "    </tr>\n",
       "  </tbody>\n",
       "</table>\n",
       "</div>"
      ],
      "text/plain": [
       "                      count      mean       std  min      25%      50%  \\\n",
       "CDPHId             114381.0  20338.03  12481.33  2.0   8791.0  20910.0   \n",
       "CSFId               80650.0  32608.71  19090.71  1.0  15788.0  32542.0   \n",
       "CompanyId          114381.0    451.19    409.71  4.0     86.0    298.0   \n",
       "PrimaryCategoryId  114381.0     51.13     20.46  1.0     44.0     44.0   \n",
       "SubCategoryId      114381.0     66.89     35.82  3.0     48.0     52.0   \n",
       "CasId              114381.0    673.15    148.02  2.0    656.0    656.0   \n",
       "ChemicalId         114381.0  32909.64  20403.73  0.0  14092.0  32114.0   \n",
       "ChemicalCount      114381.0      1.29      0.64  0.0      1.0      1.0   \n",
       "\n",
       "                        75%      max  \n",
       "CDPHId             31380.00  41524.0  \n",
       "CSFId              48720.75  65009.0  \n",
       "CompanyId            798.00   1391.0  \n",
       "PrimaryCategoryId     59.00    111.0  \n",
       "SubCategoryId         65.00    172.0  \n",
       "CasId                656.00   1242.0  \n",
       "ChemicalId         51641.00  68074.0  \n",
       "ChemicalCount          1.00      9.0  "
      ]
     },
     "execution_count": 29,
     "metadata": {},
     "output_type": "execute_result"
    }
   ],
   "source": [
    "df.describe(include='number').T.round(2)"
   ]
  },
  {
   "cell_type": "markdown",
   "id": "cec2c231",
   "metadata": {},
   "source": [
    "## HISTOGRAMAS"
   ]
  },
  {
   "cell_type": "code",
   "execution_count": 30,
   "id": "df911a83",
   "metadata": {},
   "outputs": [],
   "source": [
    "col_numericas = ['ChemicalCount','CDPHId','ChemicalId']"
   ]
  },
  {
   "cell_type": "code",
   "execution_count": 31,
   "id": "a1d9875f",
   "metadata": {},
   "outputs": [
    {
     "data": {
      "image/png": "[encoded data removed]",
      "text/plain": [
       "<Figure size 640x480 with 1 Axes>"
      ]
     },
     "metadata": {},
     "output_type": "display_data"
    },
    {
     "data": {
      "image/png": "[encoded data removed]",
      "text/plain": [
       "<Figure size 640x480 with 1 Axes>"
      ]
     },
     "metadata": {},
     "output_type": "display_data"
    },
    {
     "data": {
      "image/png": "[encoded data removed]",
      "text/plain": [
       "<Figure size 640x480 with 1 Axes>"
      ]
     },
     "metadata": {},
     "output_type": "display_data"
    }
   ],
   "source": [
    "for col in col_numericas:\n",
    "\n",
    "    plt.figure()\n",
    "    sns.histplot(df[col], bins=20)\n",
    "    plt.show()"
   ]
  },
  {
   "cell_type": "markdown",
   "id": "c8431c63",
   "metadata": {},
   "source": [
    "## HEATMAP"
   ]
  },
  {
   "cell_type": "code",
   "execution_count": 32,
   "id": "7c8248b6",
   "metadata": {},
   "outputs": [
    {
     "data": {
      "image/png": "[encoded data removed]",
      "text/plain": [
       "<Figure size 640x480 with 2 Axes>"
      ]
     },
     "metadata": {},
     "output_type": "display_data"
    }
   ],
   "source": [
    "corr = df[col_numericas].corr()\n",
    "sns.heatmap(corr, annot=True, cmap='coolwarm', fmt=\".2f\")\n",
    "plt.title('Mapa de calor de correlaciones')\n",
    "plt.show()"
   ]
  },
  {
   "cell_type": "markdown",
   "id": "c4d9a022",
   "metadata": {},
   "source": [
    "## COLUMNAS FECHAS"
   ]
  },
  {
   "cell_type": "code",
   "execution_count": 33,
   "id": "cac8382b",
   "metadata": {},
   "outputs": [],
   "source": [
    "df['InitialDateReported'] = pd.to_datetime(df['InitialDateReported'])\n",
    "df['MostRecentDateReported'] = pd.to_datetime(df['MostRecentDateReported'])\n",
    "df['DiscontinuedDate'] = pd.to_datetime(df['DiscontinuedDate'])\n",
    "df['ChemicalCreatedAt'] = pd.to_datetime(df['ChemicalCreatedAt'])\n",
    "df['ChemicalUpdatedAt'] = pd.to_datetime(df['ChemicalUpdatedAt'])\n",
    "df['ChemicalDateRemoved'] = pd.to_datetime(df['ChemicalDateRemoved'])"
   ]
  },
  {
   "cell_type": "markdown",
   "id": "140a929f",
   "metadata": {},
   "source": [
    "## COLUMNAS CATEGORICAS"
   ]
  },
  {
   "cell_type": "code",
   "execution_count": 34,
   "id": "901c823a",
   "metadata": {},
   "outputs": [
    {
     "data": {
      "text/html": [
       "<div>\n",
       "<style scoped>\n",
       "    .dataframe tbody tr th:only-of-type {\n",
       "        vertical-align: middle;\n",
       "    }\n",
       "\n",
       "    .dataframe tbody tr th {\n",
       "        vertical-align: top;\n",
       "    }\n",
       "\n",
       "    .dataframe thead th {\n",
       "        text-align: right;\n",
       "    }\n",
       "</style>\n",
       "<table border=\"1\" class=\"dataframe\">\n",
       "  <thead>\n",
       "    <tr style=\"text-align: right;\">\n",
       "      <th></th>\n",
       "      <th>count</th>\n",
       "      <th>unique</th>\n",
       "      <th>top</th>\n",
       "      <th>freq</th>\n",
       "    </tr>\n",
       "  </thead>\n",
       "  <tbody>\n",
       "    <tr>\n",
       "      <th>ProductName</th>\n",
       "      <td>114381</td>\n",
       "      <td>33716</td>\n",
       "      <td>Eyecolor</td>\n",
       "      <td>766</td>\n",
       "    </tr>\n",
       "    <tr>\n",
       "      <th>CSF</th>\n",
       "      <td>80225</td>\n",
       "      <td>34326</td>\n",
       "      <td>Black</td>\n",
       "      <td>247</td>\n",
       "    </tr>\n",
       "    <tr>\n",
       "      <th>CompanyName</th>\n",
       "      <td>114381</td>\n",
       "      <td>606</td>\n",
       "      <td>L'Oreal USA</td>\n",
       "      <td>5747</td>\n",
       "    </tr>\n",
       "    <tr>\n",
       "      <th>BrandName</th>\n",
       "      <td>114154</td>\n",
       "      <td>2713</td>\n",
       "      <td>SEPHORA</td>\n",
       "      <td>3394</td>\n",
       "    </tr>\n",
       "    <tr>\n",
       "      <th>PrimaryCategory</th>\n",
       "      <td>114381</td>\n",
       "      <td>13</td>\n",
       "      <td>Makeup Products (non-permanent)</td>\n",
       "      <td>75822</td>\n",
       "    </tr>\n",
       "    <tr>\n",
       "      <th>SubCategory</th>\n",
       "      <td>114381</td>\n",
       "      <td>89</td>\n",
       "      <td>Lip Color - Lipsticks, Liners, and Pencils</td>\n",
       "      <td>16553</td>\n",
       "    </tr>\n",
       "    <tr>\n",
       "      <th>CasNumber</th>\n",
       "      <td>107906</td>\n",
       "      <td>125</td>\n",
       "      <td>13463-67-7</td>\n",
       "      <td>93048</td>\n",
       "    </tr>\n",
       "    <tr>\n",
       "      <th>ChemicalName</th>\n",
       "      <td>114381</td>\n",
       "      <td>123</td>\n",
       "      <td>Titanium dioxide</td>\n",
       "      <td>93479</td>\n",
       "    </tr>\n",
       "  </tbody>\n",
       "</table>\n",
       "</div>"
      ],
      "text/plain": [
       "                  count unique                                         top  \\\n",
       "ProductName      114381  33716                                    Eyecolor   \n",
       "CSF               80225  34326                                       Black   \n",
       "CompanyName      114381    606                                 L'Oreal USA   \n",
       "BrandName        114154   2713                                     SEPHORA   \n",
       "PrimaryCategory  114381     13             Makeup Products (non-permanent)   \n",
       "SubCategory      114381     89  Lip Color - Lipsticks, Liners, and Pencils   \n",
       "CasNumber        107906    125                                  13463-67-7   \n",
       "ChemicalName     114381    123                            Titanium dioxide   \n",
       "\n",
       "                  freq  \n",
       "ProductName        766  \n",
       "CSF                247  \n",
       "CompanyName       5747  \n",
       "BrandName         3394  \n",
       "PrimaryCategory  75822  \n",
       "SubCategory      16553  \n",
       "CasNumber        93048  \n",
       "ChemicalName     93479  "
      ]
     },
     "execution_count": 34,
     "metadata": {},
     "output_type": "execute_result"
    }
   ],
   "source": [
    "df.describe(include=['category','object']).T"
   ]
  },
  {
   "cell_type": "code",
   "execution_count": 35,
   "id": "c6449d01",
   "metadata": {},
   "outputs": [
    {
     "name": "stdout",
     "output_type": "stream",
     "text": [
      "la columna ProductName tiene un total de 33716 valores distintos\n",
      "los 10 valores mas repetidos son:\n"
     ]
    },
    {
     "data": {
      "text/plain": [
       "ProductName\n",
       "Eyecolor                                                                               766\n",
       "Nail Lacquer                                                                           667\n",
       "BLACK LABEL LIPSTICK                                                                   487\n",
       "NYX GIRLS NAIL POLISH                                                                  462\n",
       "ROUND LIPSTICK                                                                         427\n",
       "Eye Shadow                                                                             394\n",
       "Permanent Cosmetics Color                                                              393\n",
       "SEPHORA - COLORFUL OMBRE A PAUPIERES DECLIPSABLE / COLORFUL REMOVABLE EYESHADOW PAN    315\n",
       "Lipstick                                                                               314\n",
       "NARS Single Eyeshadow                                                                  306\n",
       "Name: count, dtype: int64"
      ]
     },
     "metadata": {},
     "output_type": "display_data"
    },
    {
     "name": "stdout",
     "output_type": "stream",
     "text": [
      "la columna CSF tiene un total de 34326 valores distintos\n",
      "los 10 valores mas repetidos son:\n"
     ]
    },
    {
     "data": {
      "text/plain": [
       "CSF\n",
       "NaN                 34156\n",
       "Black                 247\n",
       "Light                 245\n",
       "Titanium Dioxide      237\n",
       "Medium                234\n",
       "Nude                  155\n",
       "Ivory                 138\n",
       "titanium dioxide      132\n",
       "Natural Beige         129\n",
       "02                    126\n",
       "Name: count, dtype: int64"
      ]
     },
     "metadata": {},
     "output_type": "display_data"
    },
    {
     "name": "stdout",
     "output_type": "stream",
     "text": [
      "la columna CompanyName tiene un total de 606 valores distintos\n",
      "los 10 valores mas repetidos son:\n"
     ]
    },
    {
     "data": {
      "text/plain": [
       "CompanyName\n",
       "L'Oreal USA                            5747\n",
       "S+                                     5165\n",
       "Coty                                   5162\n",
       "Revlon Consumer Product Corporation    4341\n",
       "Bare Escentuals Beauty, Inc.           3828\n",
       "The Procter & Gamble Company           3535\n",
       "NYX Los Angeles, Inc.                  3227\n",
       "Charlotte Tilbury Beauty Ltd           2768\n",
       "Tarte Cosmetics                        2497\n",
       "Victoria's Secret Beauty               2219\n",
       "Name: count, dtype: int64"
      ]
     },
     "metadata": {},
     "output_type": "display_data"
    },
    {
     "name": "stdout",
     "output_type": "stream",
     "text": [
      "la columna BrandName tiene un total de 2713 valores distintos\n",
      "los 10 valores mas repetidos son:\n"
     ]
    },
    {
     "data": {
      "text/plain": [
       "BrandName\n",
       "SEPHORA                     3394\n",
       "NYX                         3227\n",
       "bareMinerals                3158\n",
       "Charlotte Tilbury           2451\n",
       "Revlon                      2335\n",
       "NARS                        2185\n",
       "Victoria's Secret Beauty    2106\n",
       "tarte                       2101\n",
       "Sally Hansen                1834\n",
       "Sephora                     1767\n",
       "Name: count, dtype: int64"
      ]
     },
     "metadata": {},
     "output_type": "display_data"
    },
    {
     "name": "stdout",
     "output_type": "stream",
     "text": [
      "la columna PrimaryCategory tiene un total de 13 valores distintos\n",
      "los 10 valores mas repetidos son:\n"
     ]
    },
    {
     "data": {
      "text/plain": [
       "PrimaryCategory\n",
       "Makeup Products (non-permanent)      75822\n",
       "Nail Products                        15347\n",
       "Skin Care Products                    7680\n",
       "Sun-Related Products                  4939\n",
       "Bath Products                         3463\n",
       "Hair Coloring Products                1882\n",
       "Hair Care Products (non-coloring)     1566\n",
       "Tattoos and Permanent Makeup          1477\n",
       "Personal Care Products                 765\n",
       "Fragrances                             644\n",
       "Name: count, dtype: int64"
      ]
     },
     "metadata": {},
     "output_type": "display_data"
    },
    {
     "name": "stdout",
     "output_type": "stream",
     "text": [
      "la columna SubCategory tiene un total de 89 valores distintos\n",
      "los 10 valores mas repetidos son:\n"
     ]
    },
    {
     "data": {
      "text/plain": [
       "SubCategory\n",
       "Lip Color - Lipsticks, Liners, and Pencils     16553\n",
       "Eye Shadow                                     15744\n",
       "Foundations and Bases                          14095\n",
       "Nail Polish and Enamel                          9945\n",
       "Lip Gloss/Shine                                 8972\n",
       "Eyeliner/Eyebrow Pencils                        5948\n",
       "Face Powders                                    4927\n",
       "Sunscreen (making a cosmetic claim)             4557\n",
       "Blushes                                         4082\n",
       "Skin Moisturizers (making a cosmetic claim)     3364\n",
       "Name: count, dtype: int64"
      ]
     },
     "metadata": {},
     "output_type": "display_data"
    },
    {
     "name": "stdout",
     "output_type": "stream",
     "text": [
      "la columna CasNumber tiene un total de 125 valores distintos\n",
      "los 10 valores mas repetidos son:\n"
     ]
    },
    {
     "data": {
      "text/plain": [
       "CasNumber\n",
       "13463-67-7    93048\n",
       "NaN            6475\n",
       "79-81-2        2288\n",
       "1333-86-4      2191\n",
       "12001-26-2     1919\n",
       "25013-16-5     1888\n",
       "14807-96-6     1499\n",
       "68603-42-9     1343\n",
       "102-71-6        455\n",
       "0               416\n",
       "Name: count, dtype: int64"
      ]
     },
     "metadata": {},
     "output_type": "display_data"
    },
    {
     "name": "stdout",
     "output_type": "stream",
     "text": [
      "la columna ChemicalName tiene un total de 123 valores distintos\n",
      "los 10 valores mas repetidos son:\n"
     ]
    },
    {
     "data": {
      "text/plain": [
       "ChemicalName\n",
       "Titanium dioxide                                                                                       93479\n",
       "Silica, crystalline (airborne particles of respirable size)                                             2816\n",
       "Retinol/retinyl esters, when in daily dosages in excess of 10,000 IU, or 3,000 retinol equivalents.     2154\n",
       "Mica                                                                                                    1919\n",
       "Butylated hydroxyanisole                                                                                1888\n",
       "Carbon black                                                                                            1758\n",
       "Talc                                                                                                    1549\n",
       "Cocamide diethanolamine                                                                                 1397\n",
       "Retinyl palmitate                                                                                       1181\n",
       "Vitamin A palmitate                                                                                      971\n",
       "Name: count, dtype: int64"
      ]
     },
     "metadata": {},
     "output_type": "display_data"
    }
   ],
   "source": [
    "col_categoricas = df.select_dtypes(['object','category']).columns\n",
    "\n",
    "for col in col_categoricas:\n",
    "    print(f'la columna {col} tiene un total de {df[col].nunique()} valores distintos')\n",
    "\n",
    "    print('los 10 valores mas repetidos son:')\n",
    "    display(df[col].value_counts(dropna=False).head(10))"
   ]
  }
 ],
 "metadata": {
  "kernelspec": {
   "display_name": "Python 3",
   "language": "python",
   "name": "python3"
  },
  "language_info": {
   "codemirror_mode": {
    "name": "ipython",
    "version": 3
   },
   "file_extension": ".py",
   "mimetype": "text/x-python",
   "name": "python",
   "nbconvert_exporter": "python",
   "pygments_lexer": "ipython3",
   "version": "3.9.6"
  }
 },
 "nbformat": 4,
 "nbformat_minor": 5
}
