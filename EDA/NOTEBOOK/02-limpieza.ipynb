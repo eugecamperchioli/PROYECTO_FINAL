{
 "cells": [
  {
   "cell_type": "code",
   "execution_count": 1,
   "id": "230f9593",
   "metadata": {},
   "outputs": [],
   "source": [
    "# tratamiento de datos\n",
    "import pandas as pd\n",
    "\n",
    "# visualizaciones\n",
    "import matplotlib.pyplot as plt\n",
    "import seaborn as sns"
   ]
  },
  {
   "cell_type": "code",
   "execution_count": null,
   "id": "83f37c12",
   "metadata": {},
   "outputs": [],
   "source": [
    "df = pd.read_csv('../data/raw/cscpopendata.csv',)"
   ]
  },
  {
   "cell_type": "code",
   "execution_count": 4,
   "id": "1a43f1c0",
   "metadata": {},
   "outputs": [
    {
     "data": {
      "text/html": [
       "<div>\n",
       "<style scoped>\n",
       "    .dataframe tbody tr th:only-of-type {\n",
       "        vertical-align: middle;\n",
       "    }\n",
       "\n",
       "    .dataframe tbody tr th {\n",
       "        vertical-align: top;\n",
       "    }\n",
       "\n",
       "    .dataframe thead th {\n",
       "        text-align: right;\n",
       "    }\n",
       "</style>\n",
       "<table border=\"1\" class=\"dataframe\">\n",
       "  <thead>\n",
       "    <tr style=\"text-align: right;\">\n",
       "      <th></th>\n",
       "      <th>CDPHId</th>\n",
       "      <th>ProductName</th>\n",
       "      <th>CSFId</th>\n",
       "      <th>CSF</th>\n",
       "      <th>CompanyId</th>\n",
       "      <th>CompanyName</th>\n",
       "      <th>BrandName</th>\n",
       "      <th>PrimaryCategoryId</th>\n",
       "      <th>PrimaryCategory</th>\n",
       "      <th>SubCategoryId</th>\n",
       "      <th>SubCategory</th>\n",
       "      <th>CasId</th>\n",
       "      <th>CasNumber</th>\n",
       "      <th>ChemicalId</th>\n",
       "      <th>ChemicalName</th>\n",
       "      <th>InitialDateReported</th>\n",
       "      <th>MostRecentDateReported</th>\n",
       "      <th>DiscontinuedDate</th>\n",
       "      <th>ChemicalCreatedAt</th>\n",
       "      <th>ChemicalUpdatedAt</th>\n",
       "      <th>ChemicalDateRemoved</th>\n",
       "      <th>ChemicalCount</th>\n",
       "    </tr>\n",
       "  </thead>\n",
       "  <tbody>\n",
       "    <tr>\n",
       "      <th>0</th>\n",
       "      <td>2</td>\n",
       "      <td>ULTRA COLOR RICH EXTRA PLUMP LIPSTICK-ALL SHADES</td>\n",
       "      <td>NaN</td>\n",
       "      <td>NaN</td>\n",
       "      <td>4</td>\n",
       "      <td>New Avon LLC</td>\n",
       "      <td>AVON</td>\n",
       "      <td>44</td>\n",
       "      <td>Makeup Products (non-permanent)</td>\n",
       "      <td>53</td>\n",
       "      <td>Lip Color - Lipsticks, Liners, and Pencils</td>\n",
       "      <td>656</td>\n",
       "      <td>13463-67-7</td>\n",
       "      <td>6</td>\n",
       "      <td>Titanium dioxide</td>\n",
       "      <td>06/17/2009</td>\n",
       "      <td>08/28/2013</td>\n",
       "      <td>02/01/2011</td>\n",
       "      <td>07/09/2009</td>\n",
       "      <td>07/09/2009</td>\n",
       "      <td>NaN</td>\n",
       "      <td>1</td>\n",
       "    </tr>\n",
       "    <tr>\n",
       "      <th>1</th>\n",
       "      <td>3</td>\n",
       "      <td>Glover's Medicated Shampoo</td>\n",
       "      <td>NaN</td>\n",
       "      <td>NaN</td>\n",
       "      <td>338</td>\n",
       "      <td>J. Strickland &amp; Co.</td>\n",
       "      <td>Glover's</td>\n",
       "      <td>18</td>\n",
       "      <td>Hair Care Products (non-coloring)</td>\n",
       "      <td>25</td>\n",
       "      <td>Hair Shampoos (making a cosmetic claim)</td>\n",
       "      <td>889</td>\n",
       "      <td>65996-92-1</td>\n",
       "      <td>4</td>\n",
       "      <td>Distillates (coal tar)</td>\n",
       "      <td>07/01/2009</td>\n",
       "      <td>07/01/2009</td>\n",
       "      <td>NaN</td>\n",
       "      <td>07/01/2009</td>\n",
       "      <td>07/01/2009</td>\n",
       "      <td>NaN</td>\n",
       "      <td>2</td>\n",
       "    </tr>\n",
       "    <tr>\n",
       "      <th>2</th>\n",
       "      <td>3</td>\n",
       "      <td>Glover's Medicated Shampoo</td>\n",
       "      <td>NaN</td>\n",
       "      <td>NaN</td>\n",
       "      <td>338</td>\n",
       "      <td>J. Strickland &amp; Co.</td>\n",
       "      <td>Glover's</td>\n",
       "      <td>18</td>\n",
       "      <td>Hair Care Products (non-coloring)</td>\n",
       "      <td>25</td>\n",
       "      <td>Hair Shampoos (making a cosmetic claim)</td>\n",
       "      <td>293</td>\n",
       "      <td>140-67-0</td>\n",
       "      <td>5</td>\n",
       "      <td>Estragole</td>\n",
       "      <td>07/01/2009</td>\n",
       "      <td>07/01/2009</td>\n",
       "      <td>NaN</td>\n",
       "      <td>07/02/2009</td>\n",
       "      <td>07/02/2009</td>\n",
       "      <td>NaN</td>\n",
       "      <td>2</td>\n",
       "    </tr>\n",
       "    <tr>\n",
       "      <th>3</th>\n",
       "      <td>4</td>\n",
       "      <td>PRECISION GLIMMER EYE LINER-ALL SHADES �</td>\n",
       "      <td>NaN</td>\n",
       "      <td>NaN</td>\n",
       "      <td>4</td>\n",
       "      <td>New Avon LLC</td>\n",
       "      <td>AVON</td>\n",
       "      <td>44</td>\n",
       "      <td>Makeup Products (non-permanent)</td>\n",
       "      <td>46</td>\n",
       "      <td>Eyeliner/Eyebrow Pencils</td>\n",
       "      <td>656</td>\n",
       "      <td>13463-67-7</td>\n",
       "      <td>7</td>\n",
       "      <td>Titanium dioxide</td>\n",
       "      <td>07/09/2009</td>\n",
       "      <td>08/28/2013</td>\n",
       "      <td>NaN</td>\n",
       "      <td>07/09/2009</td>\n",
       "      <td>07/09/2009</td>\n",
       "      <td>NaN</td>\n",
       "      <td>1</td>\n",
       "    </tr>\n",
       "    <tr>\n",
       "      <th>4</th>\n",
       "      <td>5</td>\n",
       "      <td>AVON BRILLIANT SHINE LIP GLOSS-ALL SHADES �</td>\n",
       "      <td>NaN</td>\n",
       "      <td>NaN</td>\n",
       "      <td>4</td>\n",
       "      <td>New Avon LLC</td>\n",
       "      <td>AVON</td>\n",
       "      <td>44</td>\n",
       "      <td>Makeup Products (non-permanent)</td>\n",
       "      <td>52</td>\n",
       "      <td>Lip Gloss/Shine</td>\n",
       "      <td>656</td>\n",
       "      <td>13463-67-7</td>\n",
       "      <td>8</td>\n",
       "      <td>Titanium dioxide</td>\n",
       "      <td>07/09/2009</td>\n",
       "      <td>08/28/2013</td>\n",
       "      <td>02/01/2011</td>\n",
       "      <td>07/09/2009</td>\n",
       "      <td>07/09/2009</td>\n",
       "      <td>NaN</td>\n",
       "      <td>1</td>\n",
       "    </tr>\n",
       "  </tbody>\n",
       "</table>\n",
       "</div>"
      ],
      "text/plain": [
       "   CDPHId                                       ProductName  CSFId  CSF  \\\n",
       "0       2  ULTRA COLOR RICH EXTRA PLUMP LIPSTICK-ALL SHADES    NaN  NaN   \n",
       "1       3                        Glover's Medicated Shampoo    NaN  NaN   \n",
       "2       3                        Glover's Medicated Shampoo    NaN  NaN   \n",
       "3       4          PRECISION GLIMMER EYE LINER-ALL SHADES �    NaN  NaN   \n",
       "4       5       AVON BRILLIANT SHINE LIP GLOSS-ALL SHADES �    NaN  NaN   \n",
       "\n",
       "   CompanyId          CompanyName BrandName  PrimaryCategoryId  \\\n",
       "0          4         New Avon LLC      AVON                 44   \n",
       "1        338  J. Strickland & Co.  Glover's                 18   \n",
       "2        338  J. Strickland & Co.  Glover's                 18   \n",
       "3          4         New Avon LLC      AVON                 44   \n",
       "4          4         New Avon LLC      AVON                 44   \n",
       "\n",
       "                     PrimaryCategory  SubCategoryId  \\\n",
       "0    Makeup Products (non-permanent)             53   \n",
       "1  Hair Care Products (non-coloring)             25   \n",
       "2  Hair Care Products (non-coloring)             25   \n",
       "3    Makeup Products (non-permanent)             46   \n",
       "4    Makeup Products (non-permanent)             52   \n",
       "\n",
       "                                  SubCategory  CasId   CasNumber  ChemicalId  \\\n",
       "0  Lip Color - Lipsticks, Liners, and Pencils    656  13463-67-7           6   \n",
       "1    Hair Shampoos (making a cosmetic claim)     889  65996-92-1           4   \n",
       "2    Hair Shampoos (making a cosmetic claim)     293    140-67-0           5   \n",
       "3                    Eyeliner/Eyebrow Pencils    656  13463-67-7           7   \n",
       "4                             Lip Gloss/Shine    656  13463-67-7           8   \n",
       "\n",
       "             ChemicalName InitialDateReported MostRecentDateReported  \\\n",
       "0        Titanium dioxide          06/17/2009             08/28/2013   \n",
       "1  Distillates (coal tar)          07/01/2009             07/01/2009   \n",
       "2               Estragole          07/01/2009             07/01/2009   \n",
       "3        Titanium dioxide          07/09/2009             08/28/2013   \n",
       "4        Titanium dioxide          07/09/2009             08/28/2013   \n",
       "\n",
       "  DiscontinuedDate ChemicalCreatedAt ChemicalUpdatedAt ChemicalDateRemoved  \\\n",
       "0       02/01/2011        07/09/2009        07/09/2009                 NaN   \n",
       "1              NaN        07/01/2009        07/01/2009                 NaN   \n",
       "2              NaN        07/02/2009        07/02/2009                 NaN   \n",
       "3              NaN        07/09/2009        07/09/2009                 NaN   \n",
       "4       02/01/2011        07/09/2009        07/09/2009                 NaN   \n",
       "\n",
       "   ChemicalCount  \n",
       "0              1  \n",
       "1              2  \n",
       "2              2  \n",
       "3              1  \n",
       "4              1  "
      ]
     },
     "execution_count": 4,
     "metadata": {},
     "output_type": "execute_result"
    }
   ],
   "source": [
    "pd.set_option('display.max_columns', None)\n",
    "df.head()"
   ]
  },
  {
   "cell_type": "markdown",
   "id": "329d0a74",
   "metadata": {},
   "source": [
    "## SELECCION DE COLUMNAS\n",
    "vamos a eliminar las columnas que no vamos a utilizar en nuestro analisis"
   ]
  },
  {
   "cell_type": "code",
   "execution_count": 5,
   "id": "28143330",
   "metadata": {},
   "outputs": [
    {
     "data": {
      "text/plain": [
       "Index(['ProductName', 'CSF', 'CompanyName', 'BrandName', 'PrimaryCategory',\n",
       "       'SubCategory', 'CasNumber', 'ChemicalName', 'InitialDateReported',\n",
       "       'MostRecentDateReported', 'DiscontinuedDate', 'ChemicalCreatedAt',\n",
       "       'ChemicalUpdatedAt', 'ChemicalDateRemoved', 'ChemicalCount'],\n",
       "      dtype='object')"
      ]
     },
     "execution_count": 5,
     "metadata": {},
     "output_type": "execute_result"
    }
   ],
   "source": [
    "columnas_a_eliminar =  ['CDPHId', 'CSFId', 'CompanyId', 'PrimaryCategoryId','SubCategoryId', 'CasId', 'ChemicalId']\n",
    "df = df.drop(columns=columnas_a_eliminar)\n",
    "df.columns"
   ]
  },
  {
   "cell_type": "code",
   "execution_count": 6,
   "id": "e2853106",
   "metadata": {},
   "outputs": [
    {
     "data": {
      "text/plain": [
       "Index(['ProductName', 'CSF', 'CompanyName', 'BrandName', 'PrimaryCategory',\n",
       "       'SubCategory', 'CasNumber', 'ChemicalName', 'InitialDateReported',\n",
       "       'MostRecentDateReported', 'DiscontinuedDate', 'ChemicalCreatedAt',\n",
       "       'ChemicalUpdatedAt', 'ChemicalDateRemoved', 'ChemicalCount'],\n",
       "      dtype='object')"
      ]
     },
     "execution_count": 6,
     "metadata": {},
     "output_type": "execute_result"
    }
   ],
   "source": [
    "df.columns"
   ]
  },
  {
   "cell_type": "code",
   "execution_count": 8,
   "id": "a3e12fa8",
   "metadata": {},
   "outputs": [
    {
     "data": {
      "text/plain": [
       "ProductName                0.000000\n",
       "CSF                       30.006543\n",
       "CompanyName                0.000000\n",
       "BrandName                  0.198020\n",
       "PrimaryCategory            0.000000\n",
       "SubCategory                0.000000\n",
       "CasNumber                  5.649235\n",
       "ChemicalName               0.000000\n",
       "InitialDateReported        0.000000\n",
       "MostRecentDateReported     0.000000\n",
       "DiscontinuedDate          88.729446\n",
       "ChemicalCreatedAt          0.000000\n",
       "ChemicalUpdatedAt          0.000000\n",
       "ChemicalDateRemoved       97.396083\n",
       "ChemicalCount              0.000000\n",
       "dtype: float64"
      ]
     },
     "execution_count": 8,
     "metadata": {},
     "output_type": "execute_result"
    }
   ],
   "source": [
    "df.isnull().mean()*100"
   ]
  },
  {
   "cell_type": "markdown",
   "id": "c5c2fa98",
   "metadata": {},
   "source": [
    "## TRATAMIENTO DE NULOS \n",
    "en este caso vemos que los nulos significan distintas cosas y no falta de informacion, procedemos a completar con la informacion correspondiente."
   ]
  },
  {
   "cell_type": "markdown",
   "id": "573931e2",
   "metadata": {},
   "source": [
    "## COLUMNA CSF\n",
    "las celdas vacias significan que no tienen aromas, colorantes o sabor"
   ]
  },
  {
   "cell_type": "code",
   "execution_count": 11,
   "id": "fa23d913",
   "metadata": {},
   "outputs": [],
   "source": [
    "df['CSF'] = df['CSF'].fillna('no_coloring/flavoring')"
   ]
  },
  {
   "cell_type": "markdown",
   "id": "fdd46810",
   "metadata": {},
   "source": [
    "## COLUMNA BRAND NAME\n",
    "eliminamos los valores nulos"
   ]
  },
  {
   "cell_type": "code",
   "execution_count": 76,
   "id": "2b8056ae",
   "metadata": {},
   "outputs": [],
   "source": [
    "df = df.dropna(subset=['BrandName'])"
   ]
  },
  {
   "cell_type": "markdown",
   "id": "b98f7cbe",
   "metadata": {},
   "source": [
    "## COLUMNA CASNUMBER\n",
    "eliminamos los valores, muy baja cantidad"
   ]
  },
  {
   "cell_type": "code",
   "execution_count": 77,
   "id": "a8a91183",
   "metadata": {},
   "outputs": [],
   "source": [
    "df = df.dropna(subset=['CasNumber'])"
   ]
  },
  {
   "cell_type": "markdown",
   "id": "67f95a90",
   "metadata": {},
   "source": [
    "## COLUMNA DISCONTINUEDDATE\n",
    "muchos valores nulos pero indica que son productos activos en el mercado, procedemos a completar la informacion"
   ]
  },
  {
   "cell_type": "code",
   "execution_count": 80,
   "id": "cdb53d5d",
   "metadata": {},
   "outputs": [],
   "source": [
    "df['DiscontinuedDate'] = df['DiscontinuedDate'].fillna('active')"
   ]
  },
  {
   "cell_type": "markdown",
   "id": "d57bf1c9",
   "metadata": {},
   "source": [
    "## COLUMNA ChemicalDateRemoved\n",
    "muchos valores nulos, indican que el ingrediente del producto no ha sido modificado"
   ]
  },
  {
   "cell_type": "code",
   "execution_count": 81,
   "id": "649e843d",
   "metadata": {},
   "outputs": [],
   "source": [
    "df['ChemicalDateRemoved'] = df['ChemicalDateRemoved'].fillna('no_modification')"
   ]
  },
  {
   "cell_type": "markdown",
   "id": "de9151e6",
   "metadata": {},
   "source": [
    "## COLUMNAS TIPO FECHA"
   ]
  },
  {
   "cell_type": "code",
   "execution_count": 87,
   "id": "1dd51ec5",
   "metadata": {},
   "outputs": [
    {
     "name": "stderr",
     "output_type": "stream",
     "text": [
      "/var/folders/tx/p7ygn4nx5y1b4pgmj1jv49g40000gn/T/ipykernel_51864/2073255540.py:3: UserWarning: Could not infer format, so each element will be parsed individually, falling back to `dateutil`. To ensure parsing is consistent and as-expected, please specify a format.\n",
      "  df[fecha_cols] = df[fecha_cols].apply(pd.to_datetime, errors='coerce')\n"
     ]
    }
   ],
   "source": [
    "fecha_cols = ['InitialDateReported', 'MostRecentDateReported', 'DiscontinuedDate', 'ChemicalCreatedAt', 'ChemicalUpdatedAt', 'ChemicalDateRemoved']  \n",
    "\n",
    "df[fecha_cols] = df[fecha_cols].apply(pd.to_datetime, errors='coerce')"
   ]
  },
  {
   "cell_type": "code",
   "execution_count": 88,
   "id": "a5ad8185",
   "metadata": {},
   "outputs": [
    {
     "name": "stdout",
     "output_type": "stream",
     "text": [
      "<class 'pandas.core.frame.DataFrame'>\n",
      "Index: 107947 entries, 0 to 114634\n",
      "Data columns (total 15 columns):\n",
      " #   Column                  Non-Null Count   Dtype         \n",
      "---  ------                  --------------   -----         \n",
      " 0   ProductName             107947 non-null  object        \n",
      " 1   CSF                     107947 non-null  object        \n",
      " 2   CompanyName             107947 non-null  object        \n",
      " 3   BrandName               107947 non-null  object        \n",
      " 4   PrimaryCategory         107947 non-null  object        \n",
      " 5   SubCategory             107947 non-null  object        \n",
      " 6   CasNumber               107947 non-null  object        \n",
      " 7   ChemicalName            107947 non-null  object        \n",
      " 8   InitialDateReported     107947 non-null  datetime64[ns]\n",
      " 9   MostRecentDateReported  107947 non-null  datetime64[ns]\n",
      " 10  DiscontinuedDate        11869 non-null   datetime64[ns]\n",
      " 11  ChemicalCreatedAt       107947 non-null  datetime64[ns]\n",
      " 12  ChemicalUpdatedAt       107947 non-null  datetime64[ns]\n",
      " 13  ChemicalDateRemoved     2583 non-null    datetime64[ns]\n",
      " 14  ChemicalCount           107947 non-null  int64         \n",
      "dtypes: datetime64[ns](6), int64(1), object(8)\n",
      "memory usage: 13.2+ MB\n"
     ]
    }
   ],
   "source": [
    "df.info()"
   ]
  },
  {
   "cell_type": "code",
   "execution_count": 89,
   "id": "5829abbe",
   "metadata": {},
   "outputs": [
    {
     "data": {
      "text/plain": [
       "ChemicalDateRemoved\n",
       "2009-12-14    159\n",
       "2009-10-13    111\n",
       "2009-10-06    110\n",
       "2013-12-30     88\n",
       "2013-09-16     59\n",
       "             ... \n",
       "2010-02-03      1\n",
       "2010-01-29      1\n",
       "2010-01-10      1\n",
       "2010-01-14      1\n",
       "2020-05-14      1\n",
       "Name: count, Length: 488, dtype: int64"
      ]
     },
     "execution_count": 89,
     "metadata": {},
     "output_type": "execute_result"
    }
   ],
   "source": [
    "df['ChemicalDateRemoved'].value_counts()"
   ]
  },
  {
   "cell_type": "markdown",
   "id": "c750b291",
   "metadata": {},
   "source": [
    "## guardamos los datos limpios"
   ]
  },
  {
   "cell_type": "code",
   "execution_count": 90,
   "id": "6629334d",
   "metadata": {},
   "outputs": [],
   "source": [
    "df.to_csv('../DATA/OUTPUT/cscpopendata_limpio.csv', index=False)"
   ]
  }
 ],
 "metadata": {
  "kernelspec": {
   "display_name": "Python 3",
   "language": "python",
   "name": "python3"
  },
  "language_info": {
   "codemirror_mode": {
    "name": "ipython",
    "version": 3
   },
   "file_extension": ".py",
   "mimetype": "text/x-python",
   "name": "python",
   "nbconvert_exporter": "python",
   "pygments_lexer": "ipython3",
   "version": "3.9.6"
  }
 },
 "nbformat": 4,
 "nbformat_minor": 5
}
